{
 "cells": [
  {
   "cell_type": "code",
   "execution_count": null,
   "id": "c1dfb924-7535-4d1d-9d9b-fa34cbcfb7da",
   "metadata": {},
   "outputs": [],
   "source": [
    "'''Q1: What is the difference between a function and a method in Python?\n",
    "Ans: In Python, a function is a block of reusable code that performs a specific task and can be called independently using its name. It is defined using the def keyword and can take arguments and return values. Examples of functions include built-in ones like len(), sum(), or user-defined functions like def greet():.\n",
    "\n",
    "On the other hand, a method is a function that is associated with an object and is called on that object. Methods are defined within classes and operate on instances of those classes. For example, \"hello\".upper() is a method that belongs to the string object and transforms it to uppercase. In short, the main difference is that functions are standalone, while methods are tied to objects and often use or modify the object’s internal data.'''"
   ]
  },
  {
   "cell_type": "code",
   "execution_count": null,
   "id": "063de125-acd8-4a0a-9f20-318078dfe7d9",
   "metadata": {},
   "outputs": [],
   "source": [
    "'''Q2: Explain the concept of function arguments and parameters in Python.\n",
    "Ans: In Python, parameters and arguments are both related to how functions receive input values, but they serve different roles.\n",
    "\n",
    "A parameter is a variable that is listed inside the parentheses in a function definition. It acts as a placeholder for the value the function expects when it is called. For example, in def greet(name):, name is a parameter.\n",
    "\n",
    "An argument, on the other hand, is the actual value that is passed to the function when it is called. For example, in greet(\"Shivam\"), the string \"Shivam\" is the argument.\n",
    "\n",
    "Python supports several types of arguments:\n",
    "\n",
    "Positional arguments: Values are assigned to parameters in the order they appear.\n",
    "\n",
    "Keyword arguments: You specify which parameter gets which value using the parameter name, like greet(name=\"Shivam\").\n",
    "\n",
    "Default arguments: You can provide default values to parameters in the function definition, which are used if no argument is passed.\n",
    "\n",
    "Variable-length arguments: Using *args for multiple positional arguments and **kwargs for multiple keyword arguments.'''"
   ]
  },
  {
   "cell_type": "code",
   "execution_count": null,
   "id": "d1278b04-ee19-4026-8fa1-05cf92eb884b",
   "metadata": {},
   "outputs": [],
   "source": [
    "'''Q3:  What are the different ways to define and call a function in Python?\n",
    "Ans: In Python, functions can be defined and called in various ways to suit different programming needs. The most common way to define a function is using the def keyword, followed by the function name and parentheses that may contain parameters. For example, a simple function def greet(): can be called using greet(). Functions can also accept parameters to make them more dynamic. These can be regular parameters, default parameters (with predefined values), or even variable-length parameters using *args for multiple positional arguments and **kwargs for keyword arguments.\n",
    "\n",
    "Another way to define a function is using a lambda function, which is an anonymous, one-line function typically used for simple tasks. Functions in Python can also be called inside other functions, enabling modular and reusable code. Overall, Python provides flexible ways to define and call functions, allowing developers to write clean, efficient, and organized programs.'''"
   ]
  },
  {
   "cell_type": "code",
   "execution_count": null,
   "id": "12d975d1-3efc-483b-8b1e-179644ff83f5",
   "metadata": {},
   "outputs": [],
   "source": [
    "'''Q4:  What is the purpose of the `return` statement in a Python function?\n",
    "Ans: The return statement in a Python function is used to send a result back to the caller. When a function is executed and reaches the return statement, it ends the function and provides the specified value to whatever code called the function. This allows the function to output data, which can then be stored in a variable, used in an expression, or passed to another function.\n",
    "\n",
    "For example, in def add(a, b): return a + b, the return statement outputs the sum of a and b. Without a return statement, the function would perform its task but return None by default. The return statement is essential when the function is expected to produce a value that will be used elsewhere in the program.'''"
   ]
  },
  {
   "cell_type": "code",
   "execution_count": null,
   "id": "f6aab443-096c-4092-a7bf-9ec3937dd946",
   "metadata": {},
   "outputs": [],
   "source": [
    "'''Q5: What are iterators in Python and how do they differ from iterables?\n",
    "Ans: In Python, an iterator is an object that represents a stream of data—it returns one element at a time when you call next() on it. An iterable, on the other hand, is any object that can return an iterator using the iter() function.\n",
    "\n",
    "An iterable is something you can loop over (like lists, tuples, strings, or sets), but it does not keep track of its position. An iterator is what actually does the iteration—it remembers the current position and knows how to fetch the next value.'''"
   ]
  },
  {
   "cell_type": "code",
   "execution_count": null,
   "id": "45475812-a00b-4dea-a7ff-ed59969b22b3",
   "metadata": {},
   "outputs": [],
   "source": [
    "'''Q6:  Explain the concept of generators in Python and how they are defined.\n",
    "Ans: In Python, generators are a type of iterable that allow you to produce a sequence of values lazily, meaning they generate items one at a time and only when needed. They are defined like regular functions but use the yield keyword instead of return. When a generator function is called, it doesn't execute immediately but returns a generator object. Each time you call next() on this object, the function resumes from where it last yielded a value, maintaining its internal state. This makes generators highly memory-efficient, especially useful when dealing with large datasets or infinite sequences, as they do not store all values in memory at once. Generators are commonly used in loops, data processing, and scenarios where performance and resource management are important.'''"
   ]
  },
  {
   "cell_type": "code",
   "execution_count": null,
   "id": "00e7ad71-60ff-481f-8d5c-d48cec7f677f",
   "metadata": {},
   "outputs": [],
   "source": [
    "'''Q7:  What are the advantages of using generators over regular functions?\n",
    "Ans: Generators offer several advantages over regular functions, especially when working with large data sets or streams of data. The most significant benefit is memory efficiency. Unlike regular functions that return all results at once (usually in a list), generators produce one item at a time using the yield keyword, which means they do not store the entire output in memory. This makes generators ideal for handling large files, long sequences, or infinite data streams.\n",
    "\n",
    "Another advantage is that generators support lazy evaluation—they compute values only when needed, reducing unnecessary processing. They also make code more readable and maintainable by eliminating the need for managing complex iterator states manually. Additionally, generators allow for faster execution startup, since the entire result doesn't need to be computed before the first value is used. Overall, generators help write efficient, scalable, and cleaner code when dealing with sequences of data.'''"
   ]
  },
  {
   "cell_type": "code",
   "execution_count": null,
   "id": "144007ec-836e-4fb2-b4ae-626267e44fff",
   "metadata": {},
   "outputs": [],
   "source": [
    "'''Q8: What is a lambda function in Python and when is it typically used?\n",
    "Ans: A lambda function in Python is a small, anonymous function defined using the lambda keyword instead of def. It can have any number of arguments but only one expression, which is evaluated and returned. Lambda functions are typically used when you need a simple function for a short period of time, often as an argument to functions like map(), filter(), or sorted().\n",
    "\n",
    "For example, lambda x: x * 2 is a lambda function that doubles the input. You can use it like this: map(lambda x: x * 2, [1, 2, 3]), which will return [2, 4, 6]. Lambda functions are useful for quick, one-time operations where defining a full function with def would be unnecessarily verbose. However, for more complex logic or reusable code, regular functions are preferred for readability and maintainability.'''"
   ]
  },
  {
   "cell_type": "code",
   "execution_count": null,
   "id": "8816766a-c7e6-43bf-9d7b-883924926f3c",
   "metadata": {},
   "outputs": [],
   "source": [
    "'''Q9: Explain the purpose and usage of the `map()` function in Python.\n",
    "Ans: The map() function in Python is used to apply a specific function to each item in an iterable, such as a list or tuple, and returns an iterator with the transformed results. It simplifies the process of performing the same operation on every element of a collection without writing explicit loops. The function takes two arguments: the function to apply and the iterable to process. For example, map(lambda x: x**2, [1, 2, 3]) will apply the squaring operation to each element in the list, producing an output of [1, 4, 9] when converted to a list. The map() function is particularly useful for data transformation tasks, helping to make the code more concise and readable, especially when working with large datasets or when using functional programming techniques.'''"
   ]
  },
  {
   "cell_type": "code",
   "execution_count": null,
   "id": "7593f289-3014-41c4-adcc-75d605d76e5f",
   "metadata": {},
   "outputs": [],
   "source": [
    "'''Q10: What is the difference between `map()`, `reduce()`, and `filter()` functions in Python?\n",
    "Ans: In Python, map(), reduce(), and filter() are built-in functions that support functional programming, but they serve different purposes.\n",
    "\n",
    "The map() function is used to apply a function to every item in an iterable, producing a new iterable with the transformed results. For example, it can be used to square each number in a list. The filter() function, on the other hand, is used to select items from an iterable that meet a specific condition—it returns only those elements for which the given function returns True. For instance, it can be used to extract only even numbers from a list.\n",
    "\n",
    "The reduce() function, which is available through the functools module, is used to repeatedly apply a function to the items in an iterable, reducing it to a single cumulative value. For example, it can be used to calculate the sum or product of all elements in a list.\n",
    "\n",
    "In summary, map() transforms data, filter() selects data, and reduce() aggregates data. Each is useful in different situations depending on whether you want to modify, filter, or combine values in an iterable.'''"
   ]
  },
  {
   "cell_type": "code",
   "execution_count": null,
   "id": "d24323bb-a880-436c-88d2-f90194cf66e4",
   "metadata": {},
   "outputs": [],
   "source": []
  },
  {
   "cell_type": "code",
   "execution_count": 1,
   "id": "bb6f8e63-6866-4667-a3a8-2a0586621964",
   "metadata": {},
   "outputs": [],
   "source": [
    "#practical Questions"
   ]
  },
  {
   "cell_type": "code",
   "execution_count": 5,
   "id": "adda4627-5f5b-4d07-ba58-125321073912",
   "metadata": {},
   "outputs": [],
   "source": [
    "#Q1: Write a Python function that takes a list of numbers as input and returns the sum of all even numbers in the list.\n",
    "def sum_even(numbers):\n",
    "    s = 0\n",
    "    for num in numbers:\n",
    "        if num%2==0:\n",
    "            s = s+num\n",
    "    return s"
   ]
  },
  {
   "cell_type": "code",
   "execution_count": 7,
   "id": "ccbdf841-1bdd-4e43-bcbb-b7c09678d9c5",
   "metadata": {},
   "outputs": [
    {
     "data": {
      "text/plain": [
       "12"
      ]
     },
     "execution_count": 7,
     "metadata": {},
     "output_type": "execute_result"
    }
   ],
   "source": [
    "sum_even([1, 2, 3, 4, 5, 6])"
   ]
  },
  {
   "cell_type": "code",
   "execution_count": 8,
   "id": "2722bbba-e930-4aa8-ac46-1df0a9d8bae1",
   "metadata": {},
   "outputs": [],
   "source": [
    "#Q2: Create a Python function that accepts a string and returns the reverse of that string.\n",
    "def reverse(strs):\n",
    "    return strs[::-1]"
   ]
  },
  {
   "cell_type": "code",
   "execution_count": 9,
   "id": "3ce61eef-ec69-439a-8805-cfd2f0c6203d",
   "metadata": {},
   "outputs": [
    {
     "data": {
      "text/plain": [
       "'mavihs'"
      ]
     },
     "execution_count": 9,
     "metadata": {},
     "output_type": "execute_result"
    }
   ],
   "source": [
    "reverse(\"shivam\")"
   ]
  },
  {
   "cell_type": "code",
   "execution_count": 20,
   "id": "459d7c1e-e982-4aeb-873f-c47aa77990bc",
   "metadata": {},
   "outputs": [],
   "source": [
    "#Q3: Implement a Python function that takes a list of integers and returns a new list containing the squares of each number.\n",
    "def sq(nums):\n",
    "    lst = []\n",
    "    for num in nums:\n",
    "        if type(num) == int:\n",
    "            lst.append(num**2)\n",
    "    return lst"
   ]
  },
  {
   "cell_type": "code",
   "execution_count": 23,
   "id": "d077d197-f46c-4657-a000-6835c449d3f7",
   "metadata": {},
   "outputs": [
    {
     "data": {
      "text/plain": [
       "[4, 9, 16, 25]"
      ]
     },
     "execution_count": 23,
     "metadata": {},
     "output_type": "execute_result"
    }
   ],
   "source": [
    "sq([2,3,4, \"Shivam\", 5])"
   ]
  },
  {
   "cell_type": "code",
   "execution_count": 51,
   "id": "b84184b5-fa03-4573-a88d-8c83fb05acd5",
   "metadata": {},
   "outputs": [],
   "source": [
    "#Q4: Write a Python function that checks if a given number is prime or not from 1 to 200.\n",
    "def is_prime(n):\n",
    "    if n < 2:\n",
    "        return False \n",
    "    for i in range(2, n):\n",
    "        if n % i == 0:\n",
    "            return False\n",
    "    return True"
   ]
  },
  {
   "cell_type": "code",
   "execution_count": 52,
   "id": "b03a94f4-95cb-491e-aac9-d7a6a8a90766",
   "metadata": {},
   "outputs": [
    {
     "name": "stdout",
     "output_type": "stream",
     "text": [
      "1 is not a prime number\n",
      "2 is a prime number\n",
      "3 is a prime number\n",
      "4 is not a prime number\n",
      "5 is a prime number\n",
      "6 is not a prime number\n",
      "7 is a prime number\n",
      "8 is not a prime number\n",
      "9 is not a prime number\n",
      "10 is not a prime number\n",
      "11 is a prime number\n",
      "12 is not a prime number\n",
      "13 is a prime number\n",
      "14 is not a prime number\n",
      "15 is not a prime number\n",
      "16 is not a prime number\n",
      "17 is a prime number\n",
      "18 is not a prime number\n",
      "19 is a prime number\n",
      "20 is not a prime number\n",
      "21 is not a prime number\n",
      "22 is not a prime number\n",
      "23 is a prime number\n",
      "24 is not a prime number\n",
      "25 is not a prime number\n",
      "26 is not a prime number\n",
      "27 is not a prime number\n",
      "28 is not a prime number\n",
      "29 is a prime number\n",
      "30 is not a prime number\n",
      "31 is a prime number\n",
      "32 is not a prime number\n",
      "33 is not a prime number\n",
      "34 is not a prime number\n",
      "35 is not a prime number\n",
      "36 is not a prime number\n",
      "37 is a prime number\n",
      "38 is not a prime number\n",
      "39 is not a prime number\n",
      "40 is not a prime number\n",
      "41 is a prime number\n",
      "42 is not a prime number\n",
      "43 is a prime number\n",
      "44 is not a prime number\n",
      "45 is not a prime number\n",
      "46 is not a prime number\n",
      "47 is a prime number\n",
      "48 is not a prime number\n",
      "49 is not a prime number\n",
      "50 is not a prime number\n",
      "51 is not a prime number\n",
      "52 is not a prime number\n",
      "53 is a prime number\n",
      "54 is not a prime number\n",
      "55 is not a prime number\n",
      "56 is not a prime number\n",
      "57 is not a prime number\n",
      "58 is not a prime number\n",
      "59 is a prime number\n",
      "60 is not a prime number\n",
      "61 is a prime number\n",
      "62 is not a prime number\n",
      "63 is not a prime number\n",
      "64 is not a prime number\n",
      "65 is not a prime number\n",
      "66 is not a prime number\n",
      "67 is a prime number\n",
      "68 is not a prime number\n",
      "69 is not a prime number\n",
      "70 is not a prime number\n",
      "71 is a prime number\n",
      "72 is not a prime number\n",
      "73 is a prime number\n",
      "74 is not a prime number\n",
      "75 is not a prime number\n",
      "76 is not a prime number\n",
      "77 is not a prime number\n",
      "78 is not a prime number\n",
      "79 is a prime number\n",
      "80 is not a prime number\n",
      "81 is not a prime number\n",
      "82 is not a prime number\n",
      "83 is a prime number\n",
      "84 is not a prime number\n",
      "85 is not a prime number\n",
      "86 is not a prime number\n",
      "87 is not a prime number\n",
      "88 is not a prime number\n",
      "89 is a prime number\n",
      "90 is not a prime number\n",
      "91 is not a prime number\n",
      "92 is not a prime number\n",
      "93 is not a prime number\n",
      "94 is not a prime number\n",
      "95 is not a prime number\n",
      "96 is not a prime number\n",
      "97 is a prime number\n",
      "98 is not a prime number\n",
      "99 is not a prime number\n",
      "100 is not a prime number\n",
      "101 is a prime number\n",
      "102 is not a prime number\n",
      "103 is a prime number\n",
      "104 is not a prime number\n",
      "105 is not a prime number\n",
      "106 is not a prime number\n",
      "107 is a prime number\n",
      "108 is not a prime number\n",
      "109 is a prime number\n",
      "110 is not a prime number\n",
      "111 is not a prime number\n",
      "112 is not a prime number\n",
      "113 is a prime number\n",
      "114 is not a prime number\n",
      "115 is not a prime number\n",
      "116 is not a prime number\n",
      "117 is not a prime number\n",
      "118 is not a prime number\n",
      "119 is not a prime number\n",
      "120 is not a prime number\n",
      "121 is not a prime number\n",
      "122 is not a prime number\n",
      "123 is not a prime number\n",
      "124 is not a prime number\n",
      "125 is not a prime number\n",
      "126 is not a prime number\n",
      "127 is a prime number\n",
      "128 is not a prime number\n",
      "129 is not a prime number\n",
      "130 is not a prime number\n",
      "131 is a prime number\n",
      "132 is not a prime number\n",
      "133 is not a prime number\n",
      "134 is not a prime number\n",
      "135 is not a prime number\n",
      "136 is not a prime number\n",
      "137 is a prime number\n",
      "138 is not a prime number\n",
      "139 is a prime number\n",
      "140 is not a prime number\n",
      "141 is not a prime number\n",
      "142 is not a prime number\n",
      "143 is not a prime number\n",
      "144 is not a prime number\n",
      "145 is not a prime number\n",
      "146 is not a prime number\n",
      "147 is not a prime number\n",
      "148 is not a prime number\n",
      "149 is a prime number\n",
      "150 is not a prime number\n",
      "151 is a prime number\n",
      "152 is not a prime number\n",
      "153 is not a prime number\n",
      "154 is not a prime number\n",
      "155 is not a prime number\n",
      "156 is not a prime number\n",
      "157 is a prime number\n",
      "158 is not a prime number\n",
      "159 is not a prime number\n",
      "160 is not a prime number\n",
      "161 is not a prime number\n",
      "162 is not a prime number\n",
      "163 is a prime number\n",
      "164 is not a prime number\n",
      "165 is not a prime number\n",
      "166 is not a prime number\n",
      "167 is a prime number\n",
      "168 is not a prime number\n",
      "169 is not a prime number\n",
      "170 is not a prime number\n",
      "171 is not a prime number\n",
      "172 is not a prime number\n",
      "173 is a prime number\n",
      "174 is not a prime number\n",
      "175 is not a prime number\n",
      "176 is not a prime number\n",
      "177 is not a prime number\n",
      "178 is not a prime number\n",
      "179 is a prime number\n",
      "180 is not a prime number\n",
      "181 is a prime number\n",
      "182 is not a prime number\n",
      "183 is not a prime number\n",
      "184 is not a prime number\n",
      "185 is not a prime number\n",
      "186 is not a prime number\n",
      "187 is not a prime number\n",
      "188 is not a prime number\n",
      "189 is not a prime number\n",
      "190 is not a prime number\n",
      "191 is a prime number\n",
      "192 is not a prime number\n",
      "193 is a prime number\n",
      "194 is not a prime number\n",
      "195 is not a prime number\n",
      "196 is not a prime number\n",
      "197 is a prime number\n",
      "198 is not a prime number\n",
      "199 is a prime number\n",
      "200 is not a prime number\n"
     ]
    }
   ],
   "source": [
    "for number in range(1, 201):\n",
    "    if is_prime(number):\n",
    "        print(number, \"is a prime number\")\n",
    "    else:\n",
    "        print(number, \"is not a prime number\")"
   ]
  },
  {
   "cell_type": "code",
   "execution_count": 56,
   "id": "a44b8738-de26-4462-b629-21066eefcc7a",
   "metadata": {},
   "outputs": [],
   "source": [
    "#Q5: Create an iterator class in Python that generates the Fibonacci sequence up to a specified number of terms.\n",
    "def fib(n):\n",
    "    a=0\n",
    "    b=1\n",
    "    for i in range(n):\n",
    "        yield a\n",
    "        a, b = b, a+b"
   ]
  },
  {
   "cell_type": "code",
   "execution_count": 58,
   "id": "cc3d7bf5-5351-4a39-9806-633803e6812d",
   "metadata": {},
   "outputs": [],
   "source": [
    "l = fib(10)"
   ]
  },
  {
   "cell_type": "code",
   "execution_count": 59,
   "id": "3fef4104-58b8-4523-8675-5560b94ce85d",
   "metadata": {},
   "outputs": [
    {
     "data": {
      "text/plain": [
       "0"
      ]
     },
     "execution_count": 59,
     "metadata": {},
     "output_type": "execute_result"
    }
   ],
   "source": [
    "next(l)"
   ]
  },
  {
   "cell_type": "code",
   "execution_count": 60,
   "id": "c8e72df1-17fe-4a79-8d13-86ea49a562ae",
   "metadata": {},
   "outputs": [
    {
     "data": {
      "text/plain": [
       "1"
      ]
     },
     "execution_count": 60,
     "metadata": {},
     "output_type": "execute_result"
    }
   ],
   "source": [
    "next(l)"
   ]
  },
  {
   "cell_type": "code",
   "execution_count": 61,
   "id": "4620c7e6-49b7-4087-90a1-4bf9d1bd04e3",
   "metadata": {},
   "outputs": [
    {
     "data": {
      "text/plain": [
       "1"
      ]
     },
     "execution_count": 61,
     "metadata": {},
     "output_type": "execute_result"
    }
   ],
   "source": [
    "next(l)"
   ]
  },
  {
   "cell_type": "code",
   "execution_count": 62,
   "id": "76a19eba-3e3e-4d7d-9bf2-8c22a8ce6da8",
   "metadata": {},
   "outputs": [
    {
     "data": {
      "text/plain": [
       "2"
      ]
     },
     "execution_count": 62,
     "metadata": {},
     "output_type": "execute_result"
    }
   ],
   "source": [
    "next(l)"
   ]
  },
  {
   "cell_type": "code",
   "execution_count": 63,
   "id": "778d59a8-75dc-4b2a-b103-9ecad3d2b3ad",
   "metadata": {},
   "outputs": [
    {
     "data": {
      "text/plain": [
       "3"
      ]
     },
     "execution_count": 63,
     "metadata": {},
     "output_type": "execute_result"
    }
   ],
   "source": [
    "next(l)"
   ]
  },
  {
   "cell_type": "code",
   "execution_count": 9,
   "id": "99b2df00-8210-4400-a406-adb761d3a67f",
   "metadata": {},
   "outputs": [],
   "source": [
    "#Q6: Write a generator function in Python that yields the powers of 2 up to a given exponent.\n",
    "def powers_of_two(n):\n",
    "    for i in range(n):\n",
    "        yield 2 ** i"
   ]
  },
  {
   "cell_type": "code",
   "execution_count": 20,
   "id": "ab1cbe5c-4225-4411-a592-dbc93829ad59",
   "metadata": {},
   "outputs": [],
   "source": [
    "l = powers_of_two(4)"
   ]
  },
  {
   "cell_type": "code",
   "execution_count": 21,
   "id": "d107013f-82fc-476c-b1cb-976146403c07",
   "metadata": {},
   "outputs": [
    {
     "data": {
      "text/plain": [
       "1"
      ]
     },
     "execution_count": 21,
     "metadata": {},
     "output_type": "execute_result"
    }
   ],
   "source": [
    "next(l)"
   ]
  },
  {
   "cell_type": "code",
   "execution_count": 22,
   "id": "0bf27fd5-f06e-4532-90d0-036852ea6a78",
   "metadata": {},
   "outputs": [
    {
     "data": {
      "text/plain": [
       "2"
      ]
     },
     "execution_count": 22,
     "metadata": {},
     "output_type": "execute_result"
    }
   ],
   "source": [
    "next(l)"
   ]
  },
  {
   "cell_type": "code",
   "execution_count": 23,
   "id": "f7468903-d557-47ea-9a55-051f35b4c827",
   "metadata": {},
   "outputs": [
    {
     "data": {
      "text/plain": [
       "4"
      ]
     },
     "execution_count": 23,
     "metadata": {},
     "output_type": "execute_result"
    }
   ],
   "source": [
    "next(l)"
   ]
  },
  {
   "cell_type": "code",
   "execution_count": 24,
   "id": "5f269d4a-2ad1-4424-8407-98812d87dd84",
   "metadata": {},
   "outputs": [
    {
     "data": {
      "text/plain": [
       "8"
      ]
     },
     "execution_count": 24,
     "metadata": {},
     "output_type": "execute_result"
    }
   ],
   "source": [
    "next(l)"
   ]
  },
  {
   "cell_type": "code",
   "execution_count": 25,
   "id": "ce5b79ed-6fa1-486f-a369-4f38876c320a",
   "metadata": {},
   "outputs": [],
   "source": [
    "#Q7: Implement a generator function that reads a file line by line and yields each line as a string."
   ]
  },
  {
   "cell_type": "code",
   "execution_count": 79,
   "id": "d9a86bb1-52aa-4e74-b114-0813a6896585",
   "metadata": {},
   "outputs": [
    {
     "data": {
      "text/plain": [
       "['kamal', 'negi', 'vanshi']"
      ]
     },
     "execution_count": 79,
     "metadata": {},
     "output_type": "execute_result"
    }
   ],
   "source": [
    "#Q8: Use a lambda function in Python to sort a list of tuples based on the second element of each tuple.\n",
    "lst = [(\"shivam\", \"negi\"), (\"shwet\", \"kamal\"), (\"aanya\", \"vanshi\")]\n",
    "list(sorted(map(lambda x : x[1], lst)))"
   ]
  },
  {
   "cell_type": "code",
   "execution_count": 38,
   "id": "aec820ec-5e6b-478d-a3db-4edc4ddf4bce",
   "metadata": {},
   "outputs": [
    {
     "name": "stdout",
     "output_type": "stream",
     "text": [
      "[32.0, 77.0, 95.0, 104.0]\n"
     ]
    }
   ],
   "source": [
    "#Q9: Write a Python program that uses `map()` to convert a list of temperatures from Celsius to Fahrenheit\n",
    "cel = [0, 25, 35, 40]\n",
    "fahre = list(map(lambda x : (x*9/5)+32, cel))\n",
    "print(fahre)"
   ]
  },
  {
   "cell_type": "code",
   "execution_count": 68,
   "id": "a7c7c6b7-30d6-4895-9626-f4a28e6bbf74",
   "metadata": {},
   "outputs": [
    {
     "data": {
      "text/plain": [
       "['s', 'h', 'v', 'm']"
      ]
     },
     "execution_count": 68,
     "metadata": {},
     "output_type": "execute_result"
    }
   ],
   "source": [
    "#Q10: Create a Python program that uses `filter()` to remove all the vowels from a given string.\n",
    "strg = \"shvam\"\n",
    "list((filter(lambda x: x not in 'aeiouAEIOU', strg)))"
   ]
  },
  {
   "cell_type": "code",
   "execution_count": 88,
   "id": "a6525a0f-80db-41f5-a54e-c5d01a033a6a",
   "metadata": {},
   "outputs": [
    {
     "data": {
      "text/plain": [
       "[(34587, 163.8), (98762, 284.0), (77226, 108.85000000000001), (88112, 84.97)]"
      ]
     },
     "execution_count": 88,
     "metadata": {},
     "output_type": "execute_result"
    }
   ],
   "source": [
    "#Q11: Write a Python program, which returns a list with 2-tuples.\n",
    "orders = [[34587, \"learning_python\", 4, 40.95],\n",
    "         [98762, \"programming\", 5, 56.80],\n",
    "          [77226, \"head_first\", 3, 32.95],\n",
    "          [88112, \"Einfuhrung\", 3, 24.99]\n",
    "         ]\n",
    "list(map(lambda x:(x[0], x[2]*x[3] + (10 if x[2] * x[3] < 100 else 0)), orders))"
   ]
  },
  {
   "cell_type": "code",
   "execution_count": null,
   "id": "cf9bf0f3-d1d1-4b6c-a0e3-8157f34cc846",
   "metadata": {},
   "outputs": [],
   "source": []
  },
  {
   "cell_type": "code",
   "execution_count": null,
   "id": "1b1b247a-7a65-40c1-9f8b-64e09f64bf86",
   "metadata": {},
   "outputs": [],
   "source": []
  },
  {
   "cell_type": "code",
   "execution_count": null,
   "id": "e7fc03c5-174f-4574-8965-9045d684c6c7",
   "metadata": {},
   "outputs": [],
   "source": []
  }
 ],
 "metadata": {
  "kernelspec": {
   "display_name": "Python 3 (ipykernel)",
   "language": "python",
   "name": "python3"
  },
  "language_info": {
   "codemirror_mode": {
    "name": "ipython",
    "version": 3
   },
   "file_extension": ".py",
   "mimetype": "text/x-python",
   "name": "python",
   "nbconvert_exporter": "python",
   "pygments_lexer": "ipython3",
   "version": "3.12.7"
  }
 },
 "nbformat": 4,
 "nbformat_minor": 5
}
